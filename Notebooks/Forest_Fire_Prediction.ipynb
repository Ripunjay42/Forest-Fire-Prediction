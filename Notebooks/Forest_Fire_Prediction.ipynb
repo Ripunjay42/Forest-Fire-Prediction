{
  "cells": [
    {
      "cell_type": "code",
      "execution_count": 75,
      "metadata": {
        "id": "1zFu9HCBdHOG"
      },
      "outputs": [],
      "source": [
        "import numpy as np\n",
        "import pandas as pd\n",
        "\n",
        "from sklearn.model_selection import train_test_split\n",
        "from sklearn.preprocessing import StandardScaler\n",
        "\n",
        "from sklearn.linear_model import LinearRegression,LogisticRegression\n",
        "from sklearn.neural_network import MLPClassifier,MLPRegressor\n",
        "\n",
        "from sklearn.tree import DecisionTreeRegressor as dtr\n",
        "from sklearn.ensemble import RandomForestRegressor\n",
        "\n",
        "from sklearn.metrics import mean_squared_error as mse\n",
        "from sklearn.metrics import mean_absolute_error as mae\n",
        "from sklearn.metrics import r2_score\n",
        "\n",
        "import warnings\n",
        "warnings.filterwarnings(action='ignore')"
      ]
    },
    {
      "cell_type": "code",
      "execution_count": 2,
      "metadata": {
        "id": "onxowmNgdSJb"
      },
      "outputs": [],
      "source": [
        "df=pd.read_csv('/content/forestfires.csv')"
      ]
    },
    {
      "cell_type": "code",
      "execution_count": 58,
      "metadata": {
        "colab": {
          "base_uri": "https://localhost:8080/",
          "height": 415
        },
        "id": "Iq09IrLjdSLt",
        "outputId": "817bb897-6727-4ffa-d6cb-daf715a10913"
      },
      "outputs": [
        {
          "data": {
            "text/html": [
              "<div>\n",
              "<style scoped>\n",
              "    .dataframe tbody tr th:only-of-type {\n",
              "        vertical-align: middle;\n",
              "    }\n",
              "\n",
              "    .dataframe tbody tr th {\n",
              "        vertical-align: top;\n",
              "    }\n",
              "\n",
              "    .dataframe thead th {\n",
              "        text-align: right;\n",
              "    }\n",
              "</style>\n",
              "<table border=\"1\" class=\"dataframe\">\n",
              "  <thead>\n",
              "    <tr style=\"text-align: right;\">\n",
              "      <th></th>\n",
              "      <th>X</th>\n",
              "      <th>Y</th>\n",
              "      <th>month</th>\n",
              "      <th>day</th>\n",
              "      <th>FFMC</th>\n",
              "      <th>DMC</th>\n",
              "      <th>DC</th>\n",
              "      <th>ISI</th>\n",
              "      <th>temp</th>\n",
              "      <th>RH</th>\n",
              "      <th>wind</th>\n",
              "      <th>rain</th>\n",
              "      <th>area</th>\n",
              "    </tr>\n",
              "  </thead>\n",
              "  <tbody>\n",
              "    <tr>\n",
              "      <th>0</th>\n",
              "      <td>7</td>\n",
              "      <td>5</td>\n",
              "      <td>mar</td>\n",
              "      <td>fri</td>\n",
              "      <td>86.2</td>\n",
              "      <td>26.2</td>\n",
              "      <td>94.3</td>\n",
              "      <td>5.1</td>\n",
              "      <td>8.2</td>\n",
              "      <td>51</td>\n",
              "      <td>6.7</td>\n",
              "      <td>0.0</td>\n",
              "      <td>0.00</td>\n",
              "    </tr>\n",
              "    <tr>\n",
              "      <th>1</th>\n",
              "      <td>7</td>\n",
              "      <td>4</td>\n",
              "      <td>oct</td>\n",
              "      <td>tue</td>\n",
              "      <td>90.6</td>\n",
              "      <td>35.4</td>\n",
              "      <td>669.1</td>\n",
              "      <td>6.7</td>\n",
              "      <td>18.0</td>\n",
              "      <td>33</td>\n",
              "      <td>0.9</td>\n",
              "      <td>0.0</td>\n",
              "      <td>0.00</td>\n",
              "    </tr>\n",
              "    <tr>\n",
              "      <th>2</th>\n",
              "      <td>7</td>\n",
              "      <td>4</td>\n",
              "      <td>oct</td>\n",
              "      <td>sat</td>\n",
              "      <td>90.6</td>\n",
              "      <td>43.7</td>\n",
              "      <td>686.9</td>\n",
              "      <td>6.7</td>\n",
              "      <td>14.6</td>\n",
              "      <td>33</td>\n",
              "      <td>1.3</td>\n",
              "      <td>0.0</td>\n",
              "      <td>0.00</td>\n",
              "    </tr>\n",
              "    <tr>\n",
              "      <th>3</th>\n",
              "      <td>8</td>\n",
              "      <td>6</td>\n",
              "      <td>mar</td>\n",
              "      <td>fri</td>\n",
              "      <td>91.7</td>\n",
              "      <td>33.3</td>\n",
              "      <td>77.5</td>\n",
              "      <td>9.0</td>\n",
              "      <td>8.3</td>\n",
              "      <td>97</td>\n",
              "      <td>4.0</td>\n",
              "      <td>0.2</td>\n",
              "      <td>0.00</td>\n",
              "    </tr>\n",
              "    <tr>\n",
              "      <th>4</th>\n",
              "      <td>8</td>\n",
              "      <td>6</td>\n",
              "      <td>mar</td>\n",
              "      <td>sun</td>\n",
              "      <td>89.3</td>\n",
              "      <td>51.3</td>\n",
              "      <td>102.2</td>\n",
              "      <td>9.6</td>\n",
              "      <td>11.4</td>\n",
              "      <td>99</td>\n",
              "      <td>1.8</td>\n",
              "      <td>0.0</td>\n",
              "      <td>0.00</td>\n",
              "    </tr>\n",
              "    <tr>\n",
              "      <th>...</th>\n",
              "      <td>...</td>\n",
              "      <td>...</td>\n",
              "      <td>...</td>\n",
              "      <td>...</td>\n",
              "      <td>...</td>\n",
              "      <td>...</td>\n",
              "      <td>...</td>\n",
              "      <td>...</td>\n",
              "      <td>...</td>\n",
              "      <td>...</td>\n",
              "      <td>...</td>\n",
              "      <td>...</td>\n",
              "      <td>...</td>\n",
              "    </tr>\n",
              "    <tr>\n",
              "      <th>512</th>\n",
              "      <td>4</td>\n",
              "      <td>3</td>\n",
              "      <td>aug</td>\n",
              "      <td>sun</td>\n",
              "      <td>81.6</td>\n",
              "      <td>56.7</td>\n",
              "      <td>665.6</td>\n",
              "      <td>1.9</td>\n",
              "      <td>27.8</td>\n",
              "      <td>32</td>\n",
              "      <td>2.7</td>\n",
              "      <td>0.0</td>\n",
              "      <td>6.44</td>\n",
              "    </tr>\n",
              "    <tr>\n",
              "      <th>513</th>\n",
              "      <td>2</td>\n",
              "      <td>4</td>\n",
              "      <td>aug</td>\n",
              "      <td>sun</td>\n",
              "      <td>81.6</td>\n",
              "      <td>56.7</td>\n",
              "      <td>665.6</td>\n",
              "      <td>1.9</td>\n",
              "      <td>21.9</td>\n",
              "      <td>71</td>\n",
              "      <td>5.8</td>\n",
              "      <td>0.0</td>\n",
              "      <td>54.29</td>\n",
              "    </tr>\n",
              "    <tr>\n",
              "      <th>514</th>\n",
              "      <td>7</td>\n",
              "      <td>4</td>\n",
              "      <td>aug</td>\n",
              "      <td>sun</td>\n",
              "      <td>81.6</td>\n",
              "      <td>56.7</td>\n",
              "      <td>665.6</td>\n",
              "      <td>1.9</td>\n",
              "      <td>21.2</td>\n",
              "      <td>70</td>\n",
              "      <td>6.7</td>\n",
              "      <td>0.0</td>\n",
              "      <td>11.16</td>\n",
              "    </tr>\n",
              "    <tr>\n",
              "      <th>515</th>\n",
              "      <td>1</td>\n",
              "      <td>4</td>\n",
              "      <td>aug</td>\n",
              "      <td>sat</td>\n",
              "      <td>94.4</td>\n",
              "      <td>146.0</td>\n",
              "      <td>614.7</td>\n",
              "      <td>11.3</td>\n",
              "      <td>25.6</td>\n",
              "      <td>42</td>\n",
              "      <td>4.0</td>\n",
              "      <td>0.0</td>\n",
              "      <td>0.00</td>\n",
              "    </tr>\n",
              "    <tr>\n",
              "      <th>516</th>\n",
              "      <td>6</td>\n",
              "      <td>3</td>\n",
              "      <td>nov</td>\n",
              "      <td>tue</td>\n",
              "      <td>79.5</td>\n",
              "      <td>3.0</td>\n",
              "      <td>106.7</td>\n",
              "      <td>1.1</td>\n",
              "      <td>11.8</td>\n",
              "      <td>31</td>\n",
              "      <td>4.5</td>\n",
              "      <td>0.0</td>\n",
              "      <td>0.00</td>\n",
              "    </tr>\n",
              "  </tbody>\n",
              "</table>\n",
              "<p>517 rows × 13 columns</p>\n",
              "</div>"
            ],
            "text/plain": [
              "     X  Y month  day  FFMC    DMC     DC   ISI  temp  RH  wind  rain   area\n",
              "0    7  5   mar  fri  86.2   26.2   94.3   5.1   8.2  51   6.7   0.0   0.00\n",
              "1    7  4   oct  tue  90.6   35.4  669.1   6.7  18.0  33   0.9   0.0   0.00\n",
              "2    7  4   oct  sat  90.6   43.7  686.9   6.7  14.6  33   1.3   0.0   0.00\n",
              "3    8  6   mar  fri  91.7   33.3   77.5   9.0   8.3  97   4.0   0.2   0.00\n",
              "4    8  6   mar  sun  89.3   51.3  102.2   9.6  11.4  99   1.8   0.0   0.00\n",
              "..  .. ..   ...  ...   ...    ...    ...   ...   ...  ..   ...   ...    ...\n",
              "512  4  3   aug  sun  81.6   56.7  665.6   1.9  27.8  32   2.7   0.0   6.44\n",
              "513  2  4   aug  sun  81.6   56.7  665.6   1.9  21.9  71   5.8   0.0  54.29\n",
              "514  7  4   aug  sun  81.6   56.7  665.6   1.9  21.2  70   6.7   0.0  11.16\n",
              "515  1  4   aug  sat  94.4  146.0  614.7  11.3  25.6  42   4.0   0.0   0.00\n",
              "516  6  3   nov  tue  79.5    3.0  106.7   1.1  11.8  31   4.5   0.0   0.00\n",
              "\n",
              "[517 rows x 13 columns]"
            ]
          },
          "execution_count": 58,
          "metadata": {
            "tags": []
          },
          "output_type": "execute_result"
        }
      ],
      "source": [
        "df"
      ]
    },
    {
      "cell_type": "code",
      "execution_count": 59,
      "metadata": {
        "colab": {
          "base_uri": "https://localhost:8080/"
        },
        "id": "bfLM6ZsyeYz7",
        "outputId": "ed30dd2e-391e-4c12-9d35-ee48c80e2faa"
      },
      "outputs": [
        {
          "name": "stdout",
          "output_type": "stream",
          "text": [
            "<class 'pandas.core.frame.DataFrame'>\n",
            "RangeIndex: 517 entries, 0 to 516\n",
            "Data columns (total 13 columns):\n",
            " #   Column  Non-Null Count  Dtype  \n",
            "---  ------  --------------  -----  \n",
            " 0   X       517 non-null    int64  \n",
            " 1   Y       517 non-null    int64  \n",
            " 2   month   517 non-null    object \n",
            " 3   day     517 non-null    object \n",
            " 4   FFMC    517 non-null    float64\n",
            " 5   DMC     517 non-null    float64\n",
            " 6   DC      517 non-null    float64\n",
            " 7   ISI     517 non-null    float64\n",
            " 8   temp    517 non-null    float64\n",
            " 9   RH      517 non-null    int64  \n",
            " 10  wind    517 non-null    float64\n",
            " 11  rain    517 non-null    float64\n",
            " 12  area    517 non-null    float64\n",
            "dtypes: float64(8), int64(3), object(2)\n",
            "memory usage: 52.6+ KB\n"
          ]
        }
      ],
      "source": [
        "df.info()"
      ]
    },
    {
      "cell_type": "code",
      "execution_count": 60,
      "metadata": {
        "colab": {
          "base_uri": "https://localhost:8080/"
        },
        "id": "cpfAsdVfx91N",
        "outputId": "095d8f28-7c37-4001-a25d-81634c3894d5"
      },
      "outputs": [
        {
          "data": {
            "text/plain": [
              "array(['mar', 'oct', 'aug', 'sep', 'apr', 'jun', 'jul', 'feb', 'jan',\n",
              "       'dec', 'may', 'nov'], dtype=object)"
            ]
          },
          "execution_count": 60,
          "metadata": {
            "tags": []
          },
          "output_type": "execute_result"
        }
      ],
      "source": [
        "df['month'].unique()"
      ]
    },
    {
      "cell_type": "code",
      "execution_count": 61,
      "metadata": {
        "colab": {
          "base_uri": "https://localhost:8080/"
        },
        "id": "PItta3fCyJbK",
        "outputId": "c55319d5-21d0-4d7a-c3f9-94134d4f45b4"
      },
      "outputs": [
        {
          "data": {
            "text/plain": [
              "array(['fri', 'tue', 'sat', 'sun', 'mon', 'wed', 'thu'], dtype=object)"
            ]
          },
          "execution_count": 61,
          "metadata": {
            "tags": []
          },
          "output_type": "execute_result"
        }
      ],
      "source": [
        "df['day'].unique()"
      ]
    },
    {
      "cell_type": "code",
      "execution_count": 62,
      "metadata": {
        "colab": {
          "base_uri": "https://localhost:8080/",
          "height": 355
        },
        "id": "qu3yv_nQjxga",
        "outputId": "ba84c4ef-5a50-46d5-f87d-6c1395e0159b"
      },
      "outputs": [
        {
          "data": {
            "text/html": [
              "<div>\n",
              "<style scoped>\n",
              "    .dataframe tbody tr th:only-of-type {\n",
              "        vertical-align: middle;\n",
              "    }\n",
              "\n",
              "    .dataframe tbody tr th {\n",
              "        vertical-align: top;\n",
              "    }\n",
              "\n",
              "    .dataframe thead th {\n",
              "        text-align: right;\n",
              "    }\n",
              "</style>\n",
              "<table border=\"1\" class=\"dataframe\">\n",
              "  <thead>\n",
              "    <tr style=\"text-align: right;\">\n",
              "      <th></th>\n",
              "      <th>X</th>\n",
              "      <th>Y</th>\n",
              "      <th>month</th>\n",
              "      <th>day</th>\n",
              "      <th>FFMC</th>\n",
              "      <th>DMC</th>\n",
              "      <th>DC</th>\n",
              "      <th>ISI</th>\n",
              "      <th>temp</th>\n",
              "      <th>RH</th>\n",
              "      <th>wind</th>\n",
              "      <th>rain</th>\n",
              "      <th>area</th>\n",
              "    </tr>\n",
              "  </thead>\n",
              "  <tbody>\n",
              "    <tr>\n",
              "      <th>0</th>\n",
              "      <td>7</td>\n",
              "      <td>5</td>\n",
              "      <td>mar</td>\n",
              "      <td>fri</td>\n",
              "      <td>86.2</td>\n",
              "      <td>26.2</td>\n",
              "      <td>94.3</td>\n",
              "      <td>5.1</td>\n",
              "      <td>8.2</td>\n",
              "      <td>51</td>\n",
              "      <td>6.7</td>\n",
              "      <td>0.0</td>\n",
              "      <td>0.0</td>\n",
              "    </tr>\n",
              "    <tr>\n",
              "      <th>1</th>\n",
              "      <td>7</td>\n",
              "      <td>4</td>\n",
              "      <td>oct</td>\n",
              "      <td>tue</td>\n",
              "      <td>90.6</td>\n",
              "      <td>35.4</td>\n",
              "      <td>669.1</td>\n",
              "      <td>6.7</td>\n",
              "      <td>18.0</td>\n",
              "      <td>33</td>\n",
              "      <td>0.9</td>\n",
              "      <td>0.0</td>\n",
              "      <td>0.0</td>\n",
              "    </tr>\n",
              "    <tr>\n",
              "      <th>2</th>\n",
              "      <td>7</td>\n",
              "      <td>4</td>\n",
              "      <td>oct</td>\n",
              "      <td>sat</td>\n",
              "      <td>90.6</td>\n",
              "      <td>43.7</td>\n",
              "      <td>686.9</td>\n",
              "      <td>6.7</td>\n",
              "      <td>14.6</td>\n",
              "      <td>33</td>\n",
              "      <td>1.3</td>\n",
              "      <td>0.0</td>\n",
              "      <td>0.0</td>\n",
              "    </tr>\n",
              "    <tr>\n",
              "      <th>3</th>\n",
              "      <td>8</td>\n",
              "      <td>6</td>\n",
              "      <td>mar</td>\n",
              "      <td>fri</td>\n",
              "      <td>91.7</td>\n",
              "      <td>33.3</td>\n",
              "      <td>77.5</td>\n",
              "      <td>9.0</td>\n",
              "      <td>8.3</td>\n",
              "      <td>97</td>\n",
              "      <td>4.0</td>\n",
              "      <td>0.2</td>\n",
              "      <td>0.0</td>\n",
              "    </tr>\n",
              "    <tr>\n",
              "      <th>4</th>\n",
              "      <td>8</td>\n",
              "      <td>6</td>\n",
              "      <td>mar</td>\n",
              "      <td>sun</td>\n",
              "      <td>89.3</td>\n",
              "      <td>51.3</td>\n",
              "      <td>102.2</td>\n",
              "      <td>9.6</td>\n",
              "      <td>11.4</td>\n",
              "      <td>99</td>\n",
              "      <td>1.8</td>\n",
              "      <td>0.0</td>\n",
              "      <td>0.0</td>\n",
              "    </tr>\n",
              "    <tr>\n",
              "      <th>5</th>\n",
              "      <td>8</td>\n",
              "      <td>6</td>\n",
              "      <td>aug</td>\n",
              "      <td>sun</td>\n",
              "      <td>92.3</td>\n",
              "      <td>85.3</td>\n",
              "      <td>488.0</td>\n",
              "      <td>14.7</td>\n",
              "      <td>22.2</td>\n",
              "      <td>29</td>\n",
              "      <td>5.4</td>\n",
              "      <td>0.0</td>\n",
              "      <td>0.0</td>\n",
              "    </tr>\n",
              "    <tr>\n",
              "      <th>6</th>\n",
              "      <td>8</td>\n",
              "      <td>6</td>\n",
              "      <td>aug</td>\n",
              "      <td>mon</td>\n",
              "      <td>92.3</td>\n",
              "      <td>88.9</td>\n",
              "      <td>495.6</td>\n",
              "      <td>8.5</td>\n",
              "      <td>24.1</td>\n",
              "      <td>27</td>\n",
              "      <td>3.1</td>\n",
              "      <td>0.0</td>\n",
              "      <td>0.0</td>\n",
              "    </tr>\n",
              "    <tr>\n",
              "      <th>7</th>\n",
              "      <td>8</td>\n",
              "      <td>6</td>\n",
              "      <td>aug</td>\n",
              "      <td>mon</td>\n",
              "      <td>91.5</td>\n",
              "      <td>145.4</td>\n",
              "      <td>608.2</td>\n",
              "      <td>10.7</td>\n",
              "      <td>8.0</td>\n",
              "      <td>86</td>\n",
              "      <td>2.2</td>\n",
              "      <td>0.0</td>\n",
              "      <td>0.0</td>\n",
              "    </tr>\n",
              "    <tr>\n",
              "      <th>8</th>\n",
              "      <td>8</td>\n",
              "      <td>6</td>\n",
              "      <td>sep</td>\n",
              "      <td>tue</td>\n",
              "      <td>91.0</td>\n",
              "      <td>129.5</td>\n",
              "      <td>692.6</td>\n",
              "      <td>7.0</td>\n",
              "      <td>13.1</td>\n",
              "      <td>63</td>\n",
              "      <td>5.4</td>\n",
              "      <td>0.0</td>\n",
              "      <td>0.0</td>\n",
              "    </tr>\n",
              "    <tr>\n",
              "      <th>9</th>\n",
              "      <td>7</td>\n",
              "      <td>5</td>\n",
              "      <td>sep</td>\n",
              "      <td>sat</td>\n",
              "      <td>92.5</td>\n",
              "      <td>88.0</td>\n",
              "      <td>698.6</td>\n",
              "      <td>7.1</td>\n",
              "      <td>22.8</td>\n",
              "      <td>40</td>\n",
              "      <td>4.0</td>\n",
              "      <td>0.0</td>\n",
              "      <td>0.0</td>\n",
              "    </tr>\n",
              "  </tbody>\n",
              "</table>\n",
              "</div>"
            ],
            "text/plain": [
              "   X  Y month  day  FFMC    DMC     DC   ISI  temp  RH  wind  rain  area\n",
              "0  7  5   mar  fri  86.2   26.2   94.3   5.1   8.2  51   6.7   0.0   0.0\n",
              "1  7  4   oct  tue  90.6   35.4  669.1   6.7  18.0  33   0.9   0.0   0.0\n",
              "2  7  4   oct  sat  90.6   43.7  686.9   6.7  14.6  33   1.3   0.0   0.0\n",
              "3  8  6   mar  fri  91.7   33.3   77.5   9.0   8.3  97   4.0   0.2   0.0\n",
              "4  8  6   mar  sun  89.3   51.3  102.2   9.6  11.4  99   1.8   0.0   0.0\n",
              "5  8  6   aug  sun  92.3   85.3  488.0  14.7  22.2  29   5.4   0.0   0.0\n",
              "6  8  6   aug  mon  92.3   88.9  495.6   8.5  24.1  27   3.1   0.0   0.0\n",
              "7  8  6   aug  mon  91.5  145.4  608.2  10.7   8.0  86   2.2   0.0   0.0\n",
              "8  8  6   sep  tue  91.0  129.5  692.6   7.0  13.1  63   5.4   0.0   0.0\n",
              "9  7  5   sep  sat  92.5   88.0  698.6   7.1  22.8  40   4.0   0.0   0.0"
            ]
          },
          "execution_count": 62,
          "metadata": {
            "tags": []
          },
          "output_type": "execute_result"
        }
      ],
      "source": [
        "df.head(10)"
      ]
    },
    {
      "attachments": {},
      "cell_type": "markdown",
      "metadata": {
        "id": "CsI2FSMtjgXs"
      },
      "source": [
        "#### **Preprocessing**\n",
        "\n",
        "Text data included with the numeric data(Month & Days). So we need to encode that in some numeric form before splitting the train test data."
      ]
    },
    {
      "cell_type": "code",
      "execution_count": 63,
      "metadata": {
        "id": "DbZoURJ-enNP"
      },
      "outputs": [],
      "source": [
        "def ordinal_encoding(df,column,ordering):\n",
        "  df=df.copy()\n",
        "  df[column]=df[column].apply(lambda x: ordering.index(x))\n",
        "  return df"
      ]
    },
    {
      "cell_type": "code",
      "execution_count": 64,
      "metadata": {
        "id": "1r7GVT_3enPj"
      },
      "outputs": [],
      "source": [
        "def preprocessing(df,task):\n",
        "  df=df.copy()\n",
        "  df=ordinal_encoding(\n",
        "      df,\n",
        "      column='month',\n",
        "      ordering=[\n",
        "                 'jan', 'feb', 'mar', 'apr', 'may', 'jun', 'jul', 'aug', 'sep',\n",
        "       'oct', 'nov', 'dec'\n",
        "       ]\n",
        "  )\n",
        "  df=ordinal_encoding(\n",
        "      df,\n",
        "      column='day',\n",
        "      ordering=['mon', 'tue', 'wed', 'thu', 'fri', 'sat', 'sun']\n",
        "  )\n",
        "  if task=='Regression':\n",
        "    Y=df['area']\n",
        "  elif task=='Classification':\n",
        "    Y=df['area'].apply(lambda x: 1 if x>0 else 0)\n",
        "\n",
        "  X=df.drop('area',axis=1)\n",
        "\n",
        "  X_train,X_test,Y_train,Y_test=train_test_split(X,Y,train_size=0.65,shuffle=True,random_state=1)\n",
        "\n",
        "  scaler=StandardScaler()\n",
        "  scaler.fit(X_train)\n",
        "\n",
        "  X_train=pd.DataFrame(scaler.transform(X_train),columns=X.columns)\n",
        "  X_test=pd.DataFrame(scaler.transform(X_test),columns=X.columns)\n",
        "\n",
        "  return X_train,X_test,Y_train,Y_test"
      ]
    },
    {
      "attachments": {},
      "cell_type": "markdown",
      "metadata": {
        "id": "0Q4eXNhxuqhh"
      },
      "source": [
        "#### **Splitting & Testing Models:**"
      ]
    },
    {
      "cell_type": "code",
      "execution_count": 65,
      "metadata": {
        "id": "Xic0swr_oHUw"
      },
      "outputs": [],
      "source": [
        "X_train,X_test,Y_train,Y_test=preprocessing(df,task='Regression')"
      ]
    },
    {
      "cell_type": "code",
      "execution_count": 66,
      "metadata": {
        "colab": {
          "base_uri": "https://localhost:8080/",
          "height": 222
        },
        "id": "yYwL6wAWsjBp",
        "outputId": "b6c78fd7-a312-488a-bf9b-02442474f02a"
      },
      "outputs": [
        {
          "data": {
            "text/html": [
              "<div>\n",
              "<style scoped>\n",
              "    .dataframe tbody tr th:only-of-type {\n",
              "        vertical-align: middle;\n",
              "    }\n",
              "\n",
              "    .dataframe tbody tr th {\n",
              "        vertical-align: top;\n",
              "    }\n",
              "\n",
              "    .dataframe thead th {\n",
              "        text-align: right;\n",
              "    }\n",
              "</style>\n",
              "<table border=\"1\" class=\"dataframe\">\n",
              "  <thead>\n",
              "    <tr style=\"text-align: right;\">\n",
              "      <th></th>\n",
              "      <th>X</th>\n",
              "      <th>Y</th>\n",
              "      <th>month</th>\n",
              "      <th>day</th>\n",
              "      <th>FFMC</th>\n",
              "      <th>DMC</th>\n",
              "      <th>DC</th>\n",
              "      <th>ISI</th>\n",
              "      <th>temp</th>\n",
              "      <th>RH</th>\n",
              "      <th>wind</th>\n",
              "      <th>rain</th>\n",
              "    </tr>\n",
              "  </thead>\n",
              "  <tbody>\n",
              "    <tr>\n",
              "      <th>0</th>\n",
              "      <td>1.460144</td>\n",
              "      <td>1.330887</td>\n",
              "      <td>0.226770</td>\n",
              "      <td>-0.599195</td>\n",
              "      <td>-0.750425</td>\n",
              "      <td>-0.262938</td>\n",
              "      <td>0.268405</td>\n",
              "      <td>-0.471881</td>\n",
              "      <td>-0.247391</td>\n",
              "      <td>0.426174</td>\n",
              "      <td>0.058891</td>\n",
              "      <td>-0.079936</td>\n",
              "    </tr>\n",
              "    <tr>\n",
              "      <th>1</th>\n",
              "      <td>0.603934</td>\n",
              "      <td>-0.246461</td>\n",
              "      <td>0.226770</td>\n",
              "      <td>-0.109342</td>\n",
              "      <td>0.748288</td>\n",
              "      <td>0.383050</td>\n",
              "      <td>0.145783</td>\n",
              "      <td>0.306640</td>\n",
              "      <td>0.240778</td>\n",
              "      <td>-0.140559</td>\n",
              "      <td>0.058891</td>\n",
              "      <td>-0.079936</td>\n",
              "    </tr>\n",
              "    <tr>\n",
              "      <th>2</th>\n",
              "      <td>-0.252276</td>\n",
              "      <td>0.542213</td>\n",
              "      <td>-1.913533</td>\n",
              "      <td>0.380511</td>\n",
              "      <td>0.201882</td>\n",
              "      <td>-1.156059</td>\n",
              "      <td>-1.850008</td>\n",
              "      <td>0.019817</td>\n",
              "      <td>-0.281057</td>\n",
              "      <td>-1.085114</td>\n",
              "      <td>0.348181</td>\n",
              "      <td>-0.079936</td>\n",
              "    </tr>\n",
              "    <tr>\n",
              "      <th>3</th>\n",
              "      <td>-1.108486</td>\n",
              "      <td>0.542213</td>\n",
              "      <td>0.226770</td>\n",
              "      <td>-1.089047</td>\n",
              "      <td>0.264329</td>\n",
              "      <td>0.709954</td>\n",
              "      <td>0.461893</td>\n",
              "      <td>1.105648</td>\n",
              "      <td>0.223944</td>\n",
              "      <td>0.237263</td>\n",
              "      <td>0.058891</td>\n",
              "      <td>-0.079936</td>\n",
              "    </tr>\n",
              "    <tr>\n",
              "      <th>4</th>\n",
              "      <td>1.460144</td>\n",
              "      <td>1.330887</td>\n",
              "      <td>-1.913533</td>\n",
              "      <td>0.380511</td>\n",
              "      <td>0.201882</td>\n",
              "      <td>-1.116955</td>\n",
              "      <td>-1.836870</td>\n",
              "      <td>-0.226032</td>\n",
              "      <td>-0.247391</td>\n",
              "      <td>-1.211054</td>\n",
              "      <td>0.868904</td>\n",
              "      <td>-0.079936</td>\n",
              "    </tr>\n",
              "  </tbody>\n",
              "</table>\n",
              "</div>"
            ],
            "text/plain": [
              "          X         Y     month  ...        RH      wind      rain\n",
              "0  1.460144  1.330887  0.226770  ...  0.426174  0.058891 -0.079936\n",
              "1  0.603934 -0.246461  0.226770  ... -0.140559  0.058891 -0.079936\n",
              "2 -0.252276  0.542213 -1.913533  ... -1.085114  0.348181 -0.079936\n",
              "3 -1.108486  0.542213  0.226770  ...  0.237263  0.058891 -0.079936\n",
              "4  1.460144  1.330887 -1.913533  ... -1.211054  0.868904 -0.079936\n",
              "\n",
              "[5 rows x 12 columns]"
            ]
          },
          "execution_count": 66,
          "metadata": {
            "tags": []
          },
          "output_type": "execute_result"
        }
      ],
      "source": [
        "X_train.head()"
      ]
    },
    {
      "cell_type": "code",
      "execution_count": 15,
      "metadata": {
        "colab": {
          "base_uri": "https://localhost:8080/",
          "height": 222
        },
        "id": "eFsi7haOqNb7",
        "outputId": "d75b230c-0e57-4b66-82ba-9eac07dac2d1"
      },
      "outputs": [
        {
          "data": {
            "text/html": [
              "<div>\n",
              "<style scoped>\n",
              "    .dataframe tbody tr th:only-of-type {\n",
              "        vertical-align: middle;\n",
              "    }\n",
              "\n",
              "    .dataframe tbody tr th {\n",
              "        vertical-align: top;\n",
              "    }\n",
              "\n",
              "    .dataframe thead th {\n",
              "        text-align: right;\n",
              "    }\n",
              "</style>\n",
              "<table border=\"1\" class=\"dataframe\">\n",
              "  <thead>\n",
              "    <tr style=\"text-align: right;\">\n",
              "      <th></th>\n",
              "      <th>X</th>\n",
              "      <th>Y</th>\n",
              "      <th>month</th>\n",
              "      <th>day</th>\n",
              "      <th>FFMC</th>\n",
              "      <th>DMC</th>\n",
              "      <th>DC</th>\n",
              "      <th>ISI</th>\n",
              "      <th>temp</th>\n",
              "      <th>RH</th>\n",
              "      <th>wind</th>\n",
              "      <th>rain</th>\n",
              "    </tr>\n",
              "  </thead>\n",
              "  <tbody>\n",
              "    <tr>\n",
              "      <th>0</th>\n",
              "      <td>-1.108486</td>\n",
              "      <td>-1.823808</td>\n",
              "      <td>0.226770</td>\n",
              "      <td>-1.089047</td>\n",
              "      <td>0.264329</td>\n",
              "      <td>0.709954</td>\n",
              "      <td>0.461893</td>\n",
              "      <td>1.105648</td>\n",
              "      <td>0.493278</td>\n",
              "      <td>0.803996</td>\n",
              "      <td>-0.461831</td>\n",
              "      <td>-0.079936</td>\n",
              "    </tr>\n",
              "    <tr>\n",
              "      <th>1</th>\n",
              "      <td>0.603934</td>\n",
              "      <td>0.542213</td>\n",
              "      <td>0.226770</td>\n",
              "      <td>0.870363</td>\n",
              "      <td>-0.032292</td>\n",
              "      <td>-0.161269</td>\n",
              "      <td>0.326531</td>\n",
              "      <td>-0.000671</td>\n",
              "      <td>-0.701892</td>\n",
              "      <td>0.992907</td>\n",
              "      <td>1.100336</td>\n",
              "      <td>-0.079936</td>\n",
              "    </tr>\n",
              "    <tr>\n",
              "      <th>2</th>\n",
              "      <td>-0.252276</td>\n",
              "      <td>1.330887</td>\n",
              "      <td>0.654831</td>\n",
              "      <td>-0.109342</td>\n",
              "      <td>0.514114</td>\n",
              "      <td>-0.411530</td>\n",
              "      <td>0.569386</td>\n",
              "      <td>1.843194</td>\n",
              "      <td>-0.213724</td>\n",
              "      <td>-0.077588</td>\n",
              "      <td>-0.461831</td>\n",
              "      <td>-0.079936</td>\n",
              "    </tr>\n",
              "    <tr>\n",
              "      <th>3</th>\n",
              "      <td>-0.680381</td>\n",
              "      <td>-0.246461</td>\n",
              "      <td>0.654831</td>\n",
              "      <td>0.380511</td>\n",
              "      <td>0.451668</td>\n",
              "      <td>0.531643</td>\n",
              "      <td>0.683647</td>\n",
              "      <td>1.023699</td>\n",
              "      <td>-0.045390</td>\n",
              "      <td>0.363204</td>\n",
              "      <td>-0.172541</td>\n",
              "      <td>-0.079936</td>\n",
              "    </tr>\n",
              "    <tr>\n",
              "      <th>4</th>\n",
              "      <td>1.032039</td>\n",
              "      <td>-0.246461</td>\n",
              "      <td>0.654831</td>\n",
              "      <td>-0.599195</td>\n",
              "      <td>-0.047903</td>\n",
              "      <td>-0.380248</td>\n",
              "      <td>0.770438</td>\n",
              "      <td>-0.553830</td>\n",
              "      <td>-0.584058</td>\n",
              "      <td>0.866966</td>\n",
              "      <td>0.348181</td>\n",
              "      <td>-0.079936</td>\n",
              "    </tr>\n",
              "  </tbody>\n",
              "</table>\n",
              "</div>"
            ],
            "text/plain": [
              "          X         Y     month  ...        RH      wind      rain\n",
              "0 -1.108486 -1.823808  0.226770  ...  0.803996 -0.461831 -0.079936\n",
              "1  0.603934  0.542213  0.226770  ...  0.992907  1.100336 -0.079936\n",
              "2 -0.252276  1.330887  0.654831  ... -0.077588 -0.461831 -0.079936\n",
              "3 -0.680381 -0.246461  0.654831  ...  0.363204 -0.172541 -0.079936\n",
              "4  1.032039 -0.246461  0.654831  ...  0.866966  0.348181 -0.079936\n",
              "\n",
              "[5 rows x 12 columns]"
            ]
          },
          "execution_count": 15,
          "metadata": {
            "tags": []
          },
          "output_type": "execute_result"
        }
      ],
      "source": [
        "X_test.head()"
      ]
    },
    {
      "cell_type": "code",
      "execution_count": 16,
      "metadata": {
        "colab": {
          "base_uri": "https://localhost:8080/"
        },
        "id": "47X6pkqnqNiT",
        "outputId": "99592fdb-42a6-46a8-ee2a-37f8834c9ba4"
      },
      "outputs": [
        {
          "data": {
            "text/plain": [
              "171    2.69\n",
              "161    1.90\n",
              "69     0.00\n",
              "272    3.09\n",
              "91     0.00\n",
              "Name: area, dtype: float64"
            ]
          },
          "execution_count": 16,
          "metadata": {
            "tags": []
          },
          "output_type": "execute_result"
        }
      ],
      "source": [
        "Y_train.head()"
      ]
    },
    {
      "cell_type": "code",
      "execution_count": 17,
      "metadata": {
        "colab": {
          "base_uri": "https://localhost:8080/"
        },
        "id": "LQWgMrQTqNkb",
        "outputId": "ffc5aecc-ba1c-41a3-ddbd-ceb695e67d26"
      },
      "outputs": [
        {
          "data": {
            "text/plain": [
              "270     0.52\n",
              "90      0.00\n",
              "133     0.00\n",
              "221    35.88\n",
              "224    37.71\n",
              "Name: area, dtype: float64"
            ]
          },
          "execution_count": 17,
          "metadata": {
            "tags": []
          },
          "output_type": "execute_result"
        }
      ],
      "source": [
        "Y_test.head()"
      ]
    },
    {
      "attachments": {},
      "cell_type": "markdown",
      "metadata": {
        "id": "PkwkR9gSuz6T"
      },
      "source": [
        "**Linear Regression**"
      ]
    },
    {
      "cell_type": "code",
      "execution_count": 67,
      "metadata": {
        "colab": {
          "base_uri": "https://localhost:8080/"
        },
        "id": "wm9i1nlZqNme",
        "outputId": "c1588040-bea0-43d3-d289-373b10124bad"
      },
      "outputs": [
        {
          "name": "stdout",
          "output_type": "stream",
          "text": [
            "Performance of Linear Regression R^2 metric 0.02051\n"
          ]
        }
      ],
      "source": [
        "#The maximum val. of R^2 can be 1.0 that signifies that Linear Regression is working really well.\n",
        "#Here R^2 score is 0.02051 which is really low signifying that LinearRegression is not doing well.\n",
        "linear_reg_model=LinearRegression()\n",
        "linear_reg_model.fit(X_train,Y_train)\n",
        "\n",
        "print(\"Performance of Linear Regression R^2 metric {:.5f}\".format(linear_reg_model.score(X_train,Y_train)))"
      ]
    },
    {
      "attachments": {},
      "cell_type": "markdown",
      "metadata": {
        "id": "0Gng3p5X3pDJ"
      },
      "source": [
        "**MLP Regressor Model**"
      ]
    },
    {
      "cell_type": "code",
      "execution_count": 68,
      "metadata": {
        "colab": {
          "base_uri": "https://localhost:8080/"
        },
        "id": "Y4zZD3_-3INj",
        "outputId": "80a501b1-2947-497a-8837-b8eccc681054"
      },
      "outputs": [
        {
          "name": "stdout",
          "output_type": "stream",
          "text": [
            "Performance of MLP Regressor Model R^2 metric 0.06076\n"
          ]
        }
      ],
      "source": [
        "# We can see the MLP Regressor Model Works better than Linear Regression,however its works horrible as well.\n",
        "mlp_reg_model=MLPRegressor().fit(X_train,Y_train)\n",
        "print(\"Performance of MLP Regressor Model R^2 metric {:.5f}\".format(mlp_reg_model.score(X_train,Y_train)))"
      ]
    },
    {
      "attachments": {},
      "cell_type": "markdown",
      "metadata": {
        "id": "oQaXij1M8IO8"
      },
      "source": [
        "**Decision Tree Regressor**"
      ]
    },
    {
      "cell_type": "code",
      "execution_count": 79,
      "metadata": {
        "colab": {
          "base_uri": "https://localhost:8080/"
        },
        "id": "IsRJ9kwp5u5A",
        "outputId": "ab506dce-fb07-4ba2-f2dc-59d401c28c5d"
      },
      "outputs": [
        {
          "name": "stdout",
          "output_type": "stream",
          "text": [
            "MSE = 11084.975803867403\n",
            "MAE = 25.682707182320442\n",
            "R2 Score = -11.230687894960365\n"
          ]
        }
      ],
      "source": [
        "#R2 score negative not a good fit!\n",
        "reg = dtr(random_state = 42)\n",
        "reg.fit(X_train, Y_train)\n",
        "Y_pred = reg.predict(X_test)\n",
        "print(\"MSE =\", mse(Y_pred, Y_test))\n",
        "print(\"MAE =\", mae(Y_pred, Y_test))\n",
        "print(\"R2 Score =\", r2_score(Y_pred, Y_test))"
      ]
    },
    {
      "attachments": {},
      "cell_type": "markdown",
      "metadata": {
        "id": "8CSJrvtg8lB6"
      },
      "source": [
        "**Random Forest Regressor**"
      ]
    },
    {
      "cell_type": "code",
      "execution_count": 81,
      "metadata": {
        "colab": {
          "base_uri": "https://localhost:8080/"
        },
        "id": "MnYZx7XM8hq4",
        "outputId": "324107fa-76d9-44cd-929a-03cc053b6889"
      },
      "outputs": [
        {
          "name": "stdout",
          "output_type": "stream",
          "text": [
            "MSE = 9900.080101011921\n",
            "MAE = 22.488793674759876\n",
            "R2 Score = -588.768145917561\n"
          ]
        }
      ],
      "source": [
        "#This works even worse than Decision Tree Regressor\n",
        "regr = RandomForestRegressor(max_depth=2, random_state=0, n_estimators=100)\n",
        "regr.fit(X_train, Y_train)\n",
        "Y_pred = regr.predict(X_test)\n",
        "print(\"MSE =\", mse(Y_pred, Y_test))\n",
        "print(\"MAE =\", mae(Y_pred, Y_test))\n",
        "print(\"R2 Score =\", r2_score(Y_pred, Y_test))"
      ]
    },
    {
      "attachments": {},
      "cell_type": "markdown",
      "metadata": {
        "id": "3JWckC2u0ZIp"
      },
      "source": [
        " **Logistic Regression**"
      ]
    },
    {
      "cell_type": "code",
      "execution_count": 19,
      "metadata": {
        "id": "ZxflSuqc0CwH"
      },
      "outputs": [],
      "source": [
        "X_train,X_test,Y_train,Y_test=preprocessing(df,task='Classification')"
      ]
    },
    {
      "cell_type": "code",
      "execution_count": 20,
      "metadata": {
        "colab": {
          "base_uri": "https://localhost:8080/"
        },
        "id": "5C4YkDTj0TNH",
        "outputId": "b2c6e2d8-e017-4bb8-bfe0-34f700fd4354"
      },
      "outputs": [
        {
          "data": {
            "text/plain": [
              "171    1\n",
              "161    1\n",
              "69     0\n",
              "272    1\n",
              "91     0\n",
              "      ..\n",
              "129    0\n",
              "144    1\n",
              "72     0\n",
              "235    1\n",
              "37     0\n",
              "Name: area, Length: 336, dtype: int64"
            ]
          },
          "execution_count": 20,
          "metadata": {
            "tags": []
          },
          "output_type": "execute_result"
        }
      ],
      "source": [
        "Y_train"
      ]
    },
    {
      "cell_type": "code",
      "execution_count": 21,
      "metadata": {
        "colab": {
          "base_uri": "https://localhost:8080/"
        },
        "id": "Oj4Fr7iOunVH",
        "outputId": "83a9d6c2-013e-4bd4-ae8d-b15b0d5320e6"
      },
      "outputs": [
        {
          "name": "stdout",
          "output_type": "stream",
          "text": [
            "Logistic Regression Accuracy, 53.59116%\n"
          ]
        }
      ],
      "source": [
        "log_reg_model=LogisticRegression()\n",
        "log_reg_model.fit(X_train,Y_train)\n",
        "\n",
        "print('Logistic Regression Accuracy, {:.5f}%'.format(log_reg_model.score(X_test,Y_test)*100))"
      ]
    },
    {
      "attachments": {},
      "cell_type": "markdown",
      "metadata": {
        "id": "4spbOcMa0FeJ"
      },
      "source": [
        "**Neural Network Classifier**"
      ]
    },
    {
      "cell_type": "code",
      "execution_count": 54,
      "metadata": {
        "colab": {
          "base_uri": "https://localhost:8080/"
        },
        "id": "4e9-bJ5eund3",
        "outputId": "9d877706-4300-452f-c0d9-3b23383c806b"
      },
      "outputs": [
        {
          "data": {
            "text/plain": [
              "MLPClassifier(activation='relu', alpha=0.0001, batch_size='auto', beta_1=0.9,\n",
              "              beta_2=0.999, early_stopping=False, epsilon=1e-08,\n",
              "              hidden_layer_sizes=(16, 16), learning_rate='constant',\n",
              "              learning_rate_init=0.001, max_fun=15000, max_iter=200,\n",
              "              momentum=0.9, n_iter_no_change=100, nesterovs_momentum=True,\n",
              "              power_t=0.5, random_state=None, shuffle=True, solver='adam',\n",
              "              tol=0.0001, validation_fraction=0.1, verbose=False,\n",
              "              warm_start=False)"
            ]
          },
          "execution_count": 54,
          "metadata": {
            "tags": []
          },
          "output_type": "execute_result"
        }
      ],
      "source": [
        "nn_classifier_model=MLPClassifier(activation='relu',hidden_layer_sizes=(16,16),n_iter_no_change=100,solver='adam')\n",
        "nn_classifier_model.fit(X_train,Y_train)"
      ]
    },
    {
      "cell_type": "code",
      "execution_count": 55,
      "metadata": {
        "colab": {
          "base_uri": "https://localhost:8080/"
        },
        "id": "QO-S57_ounin",
        "outputId": "15ac7fc5-6e7f-4284-bdf4-fe2837c8f32b"
      },
      "outputs": [
        {
          "name": "stdout",
          "output_type": "stream",
          "text": [
            "MLP Classifier Accuracy, 57.45856%\n"
          ]
        }
      ],
      "source": [
        "print('MLP Classifier Accuracy, {:.5f}%'.format(nn_classifier_model.score(X_test,Y_test)*100))"
      ]
    },
    {
      "attachments": {},
      "cell_type": "markdown",
      "metadata": {
        "id": "kN3HD2ZsHXvR"
      },
      "source": [
        "![th.jfif](data:image/jpeg;base64,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)"
      ]
    },
    {
      "attachments": {},
      "cell_type": "markdown",
      "metadata": {
        "id": "2jwnWWUsIjCa"
      },
      "source": [
        "##### None of the models are working good, which is pretty frustrating lmao!After running all these various models we see that MLP Classifier has the best accuracy out of the all."
      ]
    },
    {
      "attachments": {},
      "cell_type": "markdown",
      "metadata": {
        "id": "eEMl_ouRI6vB"
      },
      "source": [
        "![frustrated-meme-696x402.png](data:image/png;base64,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)"
      ]
    }
  ],
  "metadata": {
    "colab": {
      "name": "Forest Fire Prediction",
      "provenance": [],
      "toc_visible": true
    },
    "kernelspec": {
      "display_name": "Python 3",
      "name": "python3"
    },
    "language_info": {
      "name": "python"
    }
  },
  "nbformat": 4,
  "nbformat_minor": 0
}
